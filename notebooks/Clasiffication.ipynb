{
 "cells": [
  {
   "cell_type": "code",
   "execution_count": 1,
   "id": "ff45eb56-d143-4cb0-b714-88257c11e331",
   "metadata": {
    "tags": []
   },
   "outputs": [
    {
     "data": {
      "text/html": [
       "<img src=\"https://www.thesprucepets.com/thmb/aZbtMKJDBvBX0TKwS20a2H6KS1s=/750x0/filters:no_upscale():max_bytes(150000):strip_icc():format(webp)/BluePersian-175092a8a48642ff8d181e3b40a6ca7f.jpg\"/>"
      ],
      "text/plain": [
       "Image(uri=https://www.thesprucepets.com/thmb/aZbtMKJDBvBX0TKwS20a2H6KS1s=/750x0/filters:no_upscale():max_bytes(150000):strip_icc():format(webp)/BluePersian-175092a8a48642ff8d181e3b40a6ca7f.jpg)"
      ]
     },
     "execution_count": 1,
     "metadata": {},
     "output_type": "execute_result"
    }
   ],
   "source": [
    "from ligavision.dsl import Image\n",
    "# uri = \"https://www.thesprucepets.com/thmb/ZQ0FSliJSGCrArQdAdHd_dOV9BA=/750x0/filters:no_upscale():max_bytes(150000):strip_icc():format(webp)/blue-cat-breeds-4801270-hero-7f4a958430174ea2be825fb80daf0645.jpg\"\n",
    "uri = \"https://www.thesprucepets.com/thmb/aZbtMKJDBvBX0TKwS20a2H6KS1s=/750x0/filters:no_upscale():max_bytes(150000):strip_icc():format(webp)/BluePersian-175092a8a48642ff8d181e3b40a6ca7f.jpg\"\n",
    "# uri = \"https://www.thesprucepets.com/thmb/79lE1lSs3am2qaa3IWykyOsmjOM=/750x0/filters:no_upscale():max_bytes(150000):strip_icc():format(webp)/Blueorientalshorthair-d7a118699cf64dc98e4a95aa29cda9e8.jpg\"\n",
    "Image(uri)"
   ]
  },
  {
   "cell_type": "code",
   "execution_count": 2,
   "id": "99b48ee0-60d6-4120-b402-165e38242114",
   "metadata": {
    "tags": []
   },
   "outputs": [
    {
     "name": "stderr",
     "output_type": "stream",
     "text": [
      "2023-02-15 21:31:13,007 WARNING Rikai (__init__.py:52): Jar type `github` is for stable release, it may fail when version contains dev\n",
      "2023-02-15 21:31:13,008 WARNING Rikai (__init__.py:31): Jar type `github` is for stable release, it may fail when version contains dev\n",
      "2023-02-15 21:31:13,009 INFO Rikai (__init__.py:127): setting spark.sql.extensions to net.xmacs.liga.spark.RikaiSparkSessionExtensions,org.apache.spark.sql.rikai.LigaImageExtensions\n",
      "2023-02-15 21:31:13,009 INFO Rikai (__init__.py:127): setting spark.driver.extraJavaOptions to -Dio.netty.tryReflectionSetAccessible=true\n",
      "2023-02-15 21:31:13,009 INFO Rikai (__init__.py:127): setting spark.executor.extraJavaOptions to -Dio.netty.tryReflectionSetAccessible=true\n",
      "2023-02-15 21:31:13,010 INFO Rikai (__init__.py:127): setting spark.jars to https://github.com/liga-ai/liga/releases/download/v0.2.1.dev5/liga-spark321-assembly_2.12-0.2.1.dev5.jar,https://github.com/liga-ai/ligavision/releases/download/ligavision_0.2.0.dev7/liga-image-assembly_2.12-0.2.0.dev7.jar\n",
      "23/02/15 21:31:13 WARN Utils: Your hostname, tubi resolves to a loopback address: 127.0.1.1; using 192.168.31.32 instead (on interface wlp0s20f3)\n",
      "23/02/15 21:31:13 WARN Utils: Set SPARK_LOCAL_IP if you need to bind to another address\n",
      "WARNING: An illegal reflective access operation has occurred\n",
      "WARNING: Illegal reflective access by org.apache.spark.unsafe.Platform (file:/home/da/.cache/pants/named_caches/pex_root/installed_wheels/d24c8223f4d717c1f3c64217cffe4b03e91f82b29e7ca0db414f1b2fdc970248/pyspark-3.2.1-py2.py3-none-any.whl/pyspark/jars/spark-unsafe_2.12-3.2.1.jar) to constructor java.nio.DirectByteBuffer(long,int)\n",
      "WARNING: Please consider reporting this to the maintainers of org.apache.spark.unsafe.Platform\n",
      "WARNING: Use --illegal-access=warn to enable warnings of further illegal reflective access operations\n",
      "WARNING: All illegal access operations will be denied in a future release\n",
      "Using Spark's default log4j profile: org/apache/spark/log4j-defaults.properties\n",
      "Setting default log level to \"WARN\".\n",
      "To adjust logging level use sc.setLogLevel(newLevel). For SparkR, use setLogLevel(newLevel).\n",
      "23/02/15 21:31:20 WARN NativeCodeLoader: Unable to load native-hadoop library for your platform... using builtin-java classes where applicable\n",
      "23/02/15 21:31:26 WARN SimpleFunctionRegistry: The function area replaced a previously registered function.\n"
     ]
    }
   ],
   "source": [
    "from ligavision.spark import init_session\n",
    "from ligavision.spark.functions import init\n",
    "spark = init_session()\n",
    "init(spark)"
   ]
  },
  {
   "cell_type": "code",
   "execution_count": 3,
   "id": "01fe14bc-1d94-438f-a9a6-70dda94f397d",
   "metadata": {
    "tags": []
   },
   "outputs": [
    {
     "data": {
      "text/plain": [
       "DataFrame[]"
      ]
     },
     "execution_count": 3,
     "metadata": {},
     "output_type": "execute_result"
    }
   ],
   "source": [
    "model_name = \"resnet50\"\n",
    "spark.sql(\n",
    "    f\"\"\"\n",
    "    CREATE OR REPLACE MODEL {model_name}\n",
    "    FLAVOR pytorch\n",
    "    MODEL_TYPE {model_name}\n",
    "    \"\"\"\n",
    ")"
   ]
  },
  {
   "cell_type": "code",
   "execution_count": 4,
   "id": "76e40a47-8fb6-409a-9a9d-38729159d1a5",
   "metadata": {
    "tags": []
   },
   "outputs": [
    {
     "name": "stdout",
     "output_type": "stream",
     "text": [
      "+--------+-------+---+-------+\n",
      "|    name| flavor|uri|options|\n",
      "+--------+-------+---+-------+\n",
      "|resnet50|pytorch|   |       |\n",
      "+--------+-------+---+-------+\n",
      "\n"
     ]
    }
   ],
   "source": [
    "spark.sql(\"show models\").show()"
   ]
  },
  {
   "cell_type": "code",
   "execution_count": 5,
   "id": "f60c15a7-bc07-499d-a592-f958977b6f02",
   "metadata": {
    "tags": []
   },
   "outputs": [
    {
     "name": "stderr",
     "output_type": "stream",
     "text": [
      "/home/da/.cache/pants/named_caches/pex_root/venvs/cfdb2ed9e6bf9b3b3592e9474ea8ea014da2e64b/71cea7604e69974e0878cfd9d9e73348fe259f23/lib/python3.9/site-packages/torchvision/models/_utils.py:208: UserWarning: The parameter 'pretrained' is deprecated since 0.13 and will be removed in 0.15, please use 'weights' instead.\n",
      "  warnings.warn(\n",
      "/home/da/.cache/pants/named_caches/pex_root/venvs/cfdb2ed9e6bf9b3b3592e9474ea8ea014da2e64b/71cea7604e69974e0878cfd9d9e73348fe259f23/lib/python3.9/site-packages/torchvision/models/_utils.py:223: UserWarning: Arguments other than a weight enum or `None` for 'weights' are deprecated since 0.13 and will be removed in 0.15. The current behavior is equivalent to passing `weights=ResNet50_Weights.IMAGENET1K_V1`. You can also use `weights=ResNet50_Weights.DEFAULT` to get the most up-to-date weights.\n",
      "  warnings.warn(msg)\n"
     ]
    },
    {
     "name": "stdout",
     "output_type": "stream",
     "text": [
      "+--------+---------+-----------+\n",
      "|label_id|    score|      label|\n",
      "+--------+---------+-----------+\n",
      "|     283|0.3300325|Persian cat|\n",
      "+--------+---------+-----------+\n",
      "\n"
     ]
    },
    {
     "name": "stderr",
     "output_type": "stream",
     "text": [
      "                                                                                \r"
     ]
    }
   ],
   "source": [
    "df = spark.sql(\n",
    "    f\"\"\"\n",
    "    FROM (\n",
    "        SELECT ML_PREDICT({model_name}, to_image('{uri}')) as result\n",
    "    )\n",
    "    SELECT result.label_id, result.score, result.label\n",
    "    \"\"\"\n",
    ")\n",
    "df.show()"
   ]
  },
  {
   "cell_type": "code",
   "execution_count": null,
   "id": "db1243ad-3cc3-46b9-87b9-b157c621f4cd",
   "metadata": {},
   "outputs": [],
   "source": []
  }
 ],
 "metadata": {
  "kernelspec": {
   "display_name": "Python 3 (ipykernel)",
   "language": "python",
   "name": "python3"
  },
  "language_info": {
   "codemirror_mode": {
    "name": "ipython",
    "version": 3
   },
   "file_extension": ".py",
   "mimetype": "text/x-python",
   "name": "python",
   "nbconvert_exporter": "python",
   "pygments_lexer": "ipython3",
   "version": "3.9.10"
  }
 },
 "nbformat": 4,
 "nbformat_minor": 5
}
